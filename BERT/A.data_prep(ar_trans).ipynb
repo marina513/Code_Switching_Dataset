{
 "cells": [
  {
   "cell_type": "code",
   "execution_count": null,
   "metadata": {},
   "outputs": [],
   "source": []
  },
  {
   "cell_type": "code",
   "execution_count": 1,
   "metadata": {},
   "outputs": [],
   "source": [
    "import pandas as pd"
   ]
  },
  {
   "cell_type": "markdown",
   "metadata": {},
   "source": [
    "# <font color=\"red\"> In this notebook, we chunck ar data to excel files to upload them to google trans & read the translated ouput & concatenate them"
   ]
  },
  {
   "cell_type": "code",
   "execution_count": null,
   "metadata": {},
   "outputs": [],
   "source": []
  },
  {
   "cell_type": "code",
   "execution_count": null,
   "metadata": {},
   "outputs": [],
   "source": []
  },
  {
   "cell_type": "markdown",
   "metadata": {},
   "source": [
    "### ar split to excel files"
   ]
  },
  {
   "cell_type": "code",
   "execution_count": 2,
   "metadata": {},
   "outputs": [],
   "source": [
    "from A_data_prep_ar_trans import text_to_excel"
   ]
  },
  {
   "cell_type": "code",
   "execution_count": 3,
   "metadata": {},
   "outputs": [],
   "source": [
    "ar_path = '/home/mmaher/ASR_DATA/0.ar_data/ALL_DATA/ALL_path_text.txt'\n",
    "dest_path = \"/home/mmaher/ASR_DATA/2.BERT/data/ar_excel/\"\n",
    "\n",
    "paths_wavs = text_to_excel(ar_path,dest_path,step=30*1000)"
   ]
  },
  {
   "cell_type": "code",
   "execution_count": null,
   "metadata": {},
   "outputs": [],
   "source": []
  },
  {
   "cell_type": "code",
   "execution_count": null,
   "metadata": {},
   "outputs": [],
   "source": []
  },
  {
   "cell_type": "markdown",
   "metadata": {},
   "source": [
    "### Read en (translated ar) & collect"
   ]
  },
  {
   "cell_type": "code",
   "execution_count": 6,
   "metadata": {},
   "outputs": [],
   "source": [
    "import re, os\n",
    "nums = sorted([int(re.findall(r'\\d+',x)[0]) for x in os.listdir(dest_path)])"
   ]
  },
  {
   "cell_type": "code",
   "execution_count": 7,
   "metadata": {},
   "outputs": [],
   "source": [
    "en_path = \"/home/mmaher/ASR_DATA/2.BERT/data_ar/translated_ar_excel/\"\n",
    "ar_en =  []\n",
    "for n in nums:\n",
    "    ar_en.extend(pd.read_excel(en_path + str(n)  + \".xlsx\")[0])"
   ]
  },
  {
   "cell_type": "code",
   "execution_count": 13,
   "metadata": {},
   "outputs": [],
   "source": [
    "textfile = open(en_path + \"/ALL_path_text_en.txt\", \"w\")\n",
    "for e in range(len(ar_en)):\n",
    "        try:\n",
    "                textfile.write(paths_wavs[e] + \" \" + ar_en[e] + \"\\n\")\n",
    "        except:\n",
    "                textfile.write(paths_wavs[e] + \" \" + \" \" + \"\\n\")\n",
    "textfile.close()"
   ]
  },
  {
   "cell_type": "code",
   "execution_count": null,
   "metadata": {},
   "outputs": [],
   "source": []
  },
  {
   "cell_type": "code",
   "execution_count": null,
   "metadata": {},
   "outputs": [],
   "source": []
  },
  {
   "cell_type": "markdown",
   "metadata": {},
   "source": [
    "# Test"
   ]
  },
  {
   "cell_type": "code",
   "execution_count": 1,
   "metadata": {},
   "outputs": [],
   "source": [
    "p_ar = \"/home/mmaher/ASR_DATA/2.BERT/data/ar_excel/ALL_path_text_ar.txt\"\n",
    "p_en = \"/home/mmaher/ASR_DATA/2.BERT/data/en_excel/ALL_path_text_en.txt\"\n",
    "\n",
    "with open(p_ar, encoding=\"utf8\") as f:\n",
    "    ar_paths_texts = f.readlines()\n",
    "\n",
    "with open(p_en, encoding=\"utf8\") as f:\n",
    "    en_paths_texts = f.readlines()"
   ]
  },
  {
   "cell_type": "code",
   "execution_count": 2,
   "metadata": {},
   "outputs": [],
   "source": [
    "import random\n",
    "randomlist = random.sample(range(0, len(ar_paths_texts)), 5)"
   ]
  },
  {
   "cell_type": "code",
   "execution_count": 3,
   "metadata": {},
   "outputs": [
    {
     "name": "stdout",
     "output_type": "stream",
     "text": [
      "/home/mmaher/ASR_DATA/0.ar_data/Train_Data/wavs16K/msa/waves/20001214-1100-1200-VOA-ARB-0091067-0005341 بعد أن أيدت اليمن العراق أثناء حرب الخليج\n",
      "\n",
      "/home/mmaher/ASR_DATA/0.ar_data/Train_Data/wavs16K/msa/waves/20001214-1100-1200-VOA-ARB-0091067-0005341  After Yemen supported Iraq during the Gulf War\n",
      "\n",
      "~~~~~~~~~~~~~~~~~~~~~~~~~~~~~~~~~~~~~~~~~~~~~~~~~~~~~~~~~~~~~~~~~~~~~~\n",
      "/home/mmaher/ASR_DATA/0.ar_data/Train_Data/wavs16K/Colloquial-Waves/The-Waves-Bulk-Two/Mahmoud-ElPasha-350-0603 ان فكره التعليق وإلقاء الشماعه علي الناس القدامه وعلي النظام القديم بقيت قديمه يعني انا كان ممكن اقبل كده\n",
      "\n",
      "/home/mmaher/ASR_DATA/0.ar_data/Train_Data/wavs16K/Colloquial-Waves/The-Waves-Bulk-Two/Mahmoud-ElPasha-350-0603  The idea of hanging and throwing the hanger on the old people and the old regime remained old, I mean, I could have accepted that\n",
      "\n",
      "~~~~~~~~~~~~~~~~~~~~~~~~~~~~~~~~~~~~~~~~~~~~~~~~~~~~~~~~~~~~~~~~~~~~~~\n",
      "/home/mmaher/ASR_DATA/0.ar_data/Train_Data/wavs16K/Colloquial-Waves/The-Waves-Bulk-Two/Mortada-Mansour-234-0122 هي دي المشكله الأساسيه مفيش حاجه اسمها حزب تاني يا سيادة رئيس الجمهوريه حضرتك الدستور ده في الزباله ارميه في الزباله\n",
      "\n",
      "/home/mmaher/ASR_DATA/0.ar_data/Train_Data/wavs16K/Colloquial-Waves/The-Waves-Bulk-Two/Mortada-Mansour-234-0122 This is the main problem. There is no such thing as another party, Mr. President of the Republic, Your Honor. This constitution is in the trash. Throw it in the trash.\n",
      "\n",
      "~~~~~~~~~~~~~~~~~~~~~~~~~~~~~~~~~~~~~~~~~~~~~~~~~~~~~~~~~~~~~~~~~~~~~~\n",
      "/home/mmaher/ASR_DATA/0.ar_data/Train_Data/wavs16K/Colloquial-Waves/The-Waves-Bulk-Three/Motaz-Addemerdash-377-0241 <unk> أو من الناس ألي مش همهه مرجعية الأزهر أو ما إلى ذلك عايز أعرف أيه ردك على هذه\n",
      "\n",
      "/home/mmaher/ASR_DATA/0.ar_data/Train_Data/wavs16K/Colloquial-Waves/The-Waves-Bulk-Three/Motaz-Addemerdash-377-0241  Or from people who are not interested in the reference of Al-Azhar or the like. I want to know what is your response to this.\n",
      "\n",
      "~~~~~~~~~~~~~~~~~~~~~~~~~~~~~~~~~~~~~~~~~~~~~~~~~~~~~~~~~~~~~~~~~~~~~~\n",
      "/home/mmaher/ASR_DATA/0.ar_data/AIC_Anotated_Data/ALL/wavs/batch_31_36_6_000270_270_unk الشمال الجزمه الشمال \n",
      "\n",
      "/home/mmaher/ASR_DATA/0.ar_data/AIC_Anotated_Data/ALL/wavs/batch_31_36_6_000270_270_unk north\n",
      "\n",
      "~~~~~~~~~~~~~~~~~~~~~~~~~~~~~~~~~~~~~~~~~~~~~~~~~~~~~~~~~~~~~~~~~~~~~~\n"
     ]
    }
   ],
   "source": [
    "for n in randomlist:\n",
    "    print(ar_paths_texts[n])\n",
    "    print(en_paths_texts[n])\n",
    "    print(\"~~~~~~~~~~~~~~~~~~~~~~~~~~~~~~~~~~~~~~~~~~~~~~~~~~~~~~~~~~~~~~~~~~~~~~\")"
   ]
  },
  {
   "cell_type": "code",
   "execution_count": null,
   "metadata": {},
   "outputs": [],
   "source": []
  },
  {
   "cell_type": "code",
   "execution_count": null,
   "metadata": {},
   "outputs": [],
   "source": []
  }
 ],
 "metadata": {
  "interpreter": {
   "hash": "0a1d8329355cf04ea3035a46c7f93242f04c761c9e2bef49b93a3b8efc814249"
  },
  "kernelspec": {
   "display_name": "Python 3.8.5 ('MATCH_venv': venv)",
   "language": "python",
   "name": "python3"
  },
  "language_info": {
   "codemirror_mode": {
    "name": "ipython",
    "version": 3
   },
   "file_extension": ".py",
   "mimetype": "text/x-python",
   "name": "python",
   "nbconvert_exporter": "python",
   "pygments_lexer": "ipython3",
   "version": "3.8.5"
  },
  "orig_nbformat": 4
 },
 "nbformat": 4,
 "nbformat_minor": 2
}
