{
 "cells": [
  {
   "cell_type": "code",
   "execution_count": null,
   "metadata": {},
   "outputs": [],
   "source": []
  },
  {
   "cell_type": "markdown",
   "metadata": {},
   "source": [
    "# Main data"
   ]
  },
  {
   "cell_type": "code",
   "execution_count": 2,
   "metadata": {},
   "outputs": [
    {
     "data": {
      "text/html": [
       "<div>\n",
       "<style scoped>\n",
       "    .dataframe tbody tr th:only-of-type {\n",
       "        vertical-align: middle;\n",
       "    }\n",
       "\n",
       "    .dataframe tbody tr th {\n",
       "        vertical-align: top;\n",
       "    }\n",
       "\n",
       "    .dataframe thead th {\n",
       "        text-align: right;\n",
       "    }\n",
       "</style>\n",
       "<table border=\"1\" class=\"dataframe\">\n",
       "  <thead>\n",
       "    <tr style=\"text-align: right;\">\n",
       "      <th></th>\n",
       "      <th>Questions</th>\n",
       "      <th>Answers</th>\n",
       "    </tr>\n",
       "  </thead>\n",
       "  <tbody>\n",
       "    <tr>\n",
       "      <th>0</th>\n",
       "      <td>i'm fine. how about yourself?</td>\n",
       "      <td>i'm pretty good. thanks for asking.</td>\n",
       "    </tr>\n",
       "    <tr>\n",
       "      <th>1</th>\n",
       "      <td>i'm pretty good. thanks for asking.</td>\n",
       "      <td>no problem. so how have you been?</td>\n",
       "    </tr>\n",
       "    <tr>\n",
       "      <th>2</th>\n",
       "      <td>no problem. so how have you been?</td>\n",
       "      <td>i've been great. what about you?</td>\n",
       "    </tr>\n",
       "    <tr>\n",
       "      <th>3</th>\n",
       "      <td>i've been great. what about you?</td>\n",
       "      <td>i've been good. i'm in school right now.</td>\n",
       "    </tr>\n",
       "    <tr>\n",
       "      <th>4</th>\n",
       "      <td>i've been good. i'm in school right now.</td>\n",
       "      <td>what school do you go to?</td>\n",
       "    </tr>\n",
       "    <tr>\n",
       "      <th>...</th>\n",
       "      <td>...</td>\n",
       "      <td>...</td>\n",
       "    </tr>\n",
       "    <tr>\n",
       "      <th>74378</th>\n",
       "      <td>Heart attack</td>\n",
       "      <td>The death of heart muscle due to the loss of b...</td>\n",
       "    </tr>\n",
       "    <tr>\n",
       "      <th>74379</th>\n",
       "      <td>Pneumonia</td>\n",
       "      <td>Pneumonia is an infection in one or both lungs...</td>\n",
       "    </tr>\n",
       "    <tr>\n",
       "      <th>74380</th>\n",
       "      <td>Arthritis</td>\n",
       "      <td>Arthritis is the swelling and tenderness of on...</td>\n",
       "    </tr>\n",
       "    <tr>\n",
       "      <th>74381</th>\n",
       "      <td>Gastroenteritis</td>\n",
       "      <td>Gastroenteritis is an inflammation of the dige...</td>\n",
       "    </tr>\n",
       "    <tr>\n",
       "      <th>74382</th>\n",
       "      <td>Tuberculosis</td>\n",
       "      <td>Tuberculosis (TB) is an infectious disease usu...</td>\n",
       "    </tr>\n",
       "  </tbody>\n",
       "</table>\n",
       "<p>74383 rows × 2 columns</p>\n",
       "</div>"
      ],
      "text/plain": [
       "                                      Questions  \\\n",
       "0                 i'm fine. how about yourself?   \n",
       "1           i'm pretty good. thanks for asking.   \n",
       "2             no problem. so how have you been?   \n",
       "3              i've been great. what about you?   \n",
       "4      i've been good. i'm in school right now.   \n",
       "...                                         ...   \n",
       "74378                              Heart attack   \n",
       "74379                                 Pneumonia   \n",
       "74380                                 Arthritis   \n",
       "74381                           Gastroenteritis   \n",
       "74382                              Tuberculosis   \n",
       "\n",
       "                                                 Answers  \n",
       "0                    i'm pretty good. thanks for asking.  \n",
       "1                      no problem. so how have you been?  \n",
       "2                       i've been great. what about you?  \n",
       "3               i've been good. i'm in school right now.  \n",
       "4                              what school do you go to?  \n",
       "...                                                  ...  \n",
       "74378  The death of heart muscle due to the loss of b...  \n",
       "74379  Pneumonia is an infection in one or both lungs...  \n",
       "74380  Arthritis is the swelling and tenderness of on...  \n",
       "74381  Gastroenteritis is an inflammation of the dige...  \n",
       "74382  Tuberculosis (TB) is an infectious disease usu...  \n",
       "\n",
       "[74383 rows x 2 columns]"
      ]
     },
     "execution_count": 2,
     "metadata": {},
     "output_type": "execute_result"
    }
   ],
   "source": [
    "import pickle\n",
    "import pandas as pd\n",
    "with open('/home/mmaher/LM_CS/Q&A(Chatbot)/Data/chat_data.pkl', 'rb') as f:\n",
    "    Chat_data_before = pickle.load(f)\n",
    "\n",
    "Chat_data_before"
   ]
  },
  {
   "cell_type": "code",
   "execution_count": null,
   "metadata": {},
   "outputs": [],
   "source": []
  },
  {
   "cell_type": "code",
   "execution_count": null,
   "metadata": {},
   "outputs": [],
   "source": []
  },
  {
   "cell_type": "markdown",
   "metadata": {},
   "source": [
    "# Data after translating Questions"
   ]
  },
  {
   "cell_type": "code",
   "execution_count": 4,
   "metadata": {},
   "outputs": [],
   "source": [
    "p = \"/home/mmaher/LM_CS/Q&A(Chatbot)/Q_ar_A_en.xlsx\"\n",
    "Chat_data_after = pd.read_excel(p)\n",
    "Chat_data_after.drop('Unnamed: 0', axis=1)"
   ]
  },
  {
   "cell_type": "code",
   "execution_count": null,
   "metadata": {},
   "outputs": [],
   "source": []
  },
  {
   "cell_type": "code",
   "execution_count": null,
   "metadata": {},
   "outputs": [],
   "source": []
  }
 ],
 "metadata": {
  "interpreter": {
   "hash": "b7503bb4cbf18837e5e7f2065d09afd8a0619519f4bc8d3d7d88ed76d1a57139"
  },
  "kernelspec": {
   "display_name": "Python 3.8.5 ('base')",
   "language": "python",
   "name": "python3"
  },
  "language_info": {
   "codemirror_mode": {
    "name": "ipython",
    "version": 3
   },
   "file_extension": ".py",
   "mimetype": "text/x-python",
   "name": "python",
   "nbconvert_exporter": "python",
   "pygments_lexer": "ipython3",
   "version": "3.8.5"
  },
  "orig_nbformat": 4
 },
 "nbformat": 4,
 "nbformat_minor": 2
}
