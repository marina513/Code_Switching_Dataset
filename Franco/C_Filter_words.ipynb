{
 "cells": [
  {
   "cell_type": "code",
   "execution_count": null,
   "metadata": {},
   "outputs": [],
   "source": []
  },
  {
   "cell_type": "markdown",
   "metadata": {},
   "source": [
    "### <font color=\"yellow\"> Read filtered words"
   ]
  },
  {
   "cell_type": "code",
   "execution_count": 1,
   "metadata": {},
   "outputs": [],
   "source": [
    "from tqdm import tqdm\n",
    "import re,os\n",
    "\n",
    "name = \"LM\"\n",
    "\n",
    "with open('Filtered/filtered_ar_en_'+name+'.txt') as f:\n",
    "    lines = f.readlines()\n",
    "\n",
    "with open(name + '/data_all_final.txt') as f:\n",
    "    data_all_final = f.readlines()"
   ]
  },
  {
   "cell_type": "code",
   "execution_count": 2,
   "metadata": {},
   "outputs": [],
   "source": [
    "accepted_ar= [];accepted_en= []\n",
    "for i in range(len(lines)):\n",
    "    if('1' in lines[i]):\n",
    "        accepted_ar.append(lines[i].split(' ')[0])\n",
    "        accepted_en.append(lines[i].split(' ')[5])"
   ]
  },
  {
   "cell_type": "code",
   "execution_count": null,
   "metadata": {},
   "outputs": [],
   "source": []
  },
  {
   "cell_type": "code",
   "execution_count": null,
   "metadata": {},
   "outputs": [],
   "source": []
  },
  {
   "cell_type": "code",
   "execution_count": null,
   "metadata": {},
   "outputs": [],
   "source": []
  },
  {
   "cell_type": "markdown",
   "metadata": {},
   "source": [
    "### <font color=\"yellow\"> GOML"
   ]
  },
  {
   "cell_type": "code",
   "execution_count": 6,
   "metadata": {},
   "outputs": [
    {
     "name": "stderr",
     "output_type": "stream",
     "text": [
      "100%|██████████| 200/200 [5:01:50<00:00, 90.55s/it]  \n"
     ]
    }
   ],
   "source": [
    "Data_filtered = {}\n",
    "for d in tqdm(range(801,1001)):\n",
    "    word  = accepted_ar[d]\n",
    "    sents_list = [line for line in data_all_final if re.search(rf'\\b{word}\\b', line)]\n",
    "    Data_filtered[ word + \" @@ \" + accepted_en[d] ] = list(set(sents_list))\n",
    "\n",
    "\n",
    "    if(d%100==0):\n",
    "        textfile = open(\"Dicts/\"+name+\"/Dict\"+str(d)+\".txt\", \"w\")\n",
    "        for element in Data_filtered.keys():\n",
    "            textfile.write(\"@#$!@\" + element  + \"\\n\")\n",
    "            for e in Data_filtered[element]:\n",
    "                textfile.write(e)\n",
    "            textfile.write(\"\\n*********************************************************************************************************************************************************************\\n\\n\\n\")\n",
    "        textfile.close()\n",
    "\n",
    "        Data_filtered = {}\n"
   ]
  },
  {
   "cell_type": "code",
   "execution_count": null,
   "metadata": {},
   "outputs": [],
   "source": []
  },
  {
   "cell_type": "code",
   "execution_count": null,
   "metadata": {},
   "outputs": [],
   "source": []
  },
  {
   "cell_type": "code",
   "execution_count": null,
   "metadata": {},
   "outputs": [],
   "source": []
  },
  {
   "cell_type": "code",
   "execution_count": null,
   "metadata": {},
   "outputs": [],
   "source": []
  }
 ],
 "metadata": {
  "interpreter": {
   "hash": "49db38fe42ca4de17a914e14764a291a8aeb5a2fabd7204247ace0962713e961"
  },
  "kernelspec": {
   "display_name": "Python 3.8.5 ('CS_VIR_ENV': venv)",
   "language": "python",
   "name": "python3"
  },
  "language_info": {
   "codemirror_mode": {
    "name": "ipython",
    "version": 3
   },
   "file_extension": ".py",
   "mimetype": "text/x-python",
   "name": "python",
   "nbconvert_exporter": "python",
   "pygments_lexer": "ipython3",
   "version": "3.8.5"
  },
  "orig_nbformat": 4
 },
 "nbformat": 4,
 "nbformat_minor": 2
}
