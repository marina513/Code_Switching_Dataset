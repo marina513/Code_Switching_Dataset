{
 "cells": [
  {
   "cell_type": "code",
   "execution_count": null,
   "metadata": {},
   "outputs": [],
   "source": []
  },
  {
   "cell_type": "code",
   "execution_count": 1,
   "metadata": {},
   "outputs": [],
   "source": [
    "#Import\n",
    "from tqdm import tqdm\n",
    "import pandas as pd\n",
    "import regex as re\n",
    "import os\n",
    "from A_clean_quran_punc_eng import rmv_Quran_punct_num_eng\n",
    "from B_read_trans_franco_match import franco_match, filter_match"
   ]
  },
  {
   "cell_type": "code",
   "execution_count": null,
   "metadata": {},
   "outputs": [],
   "source": []
  },
  {
   "cell_type": "code",
   "execution_count": null,
   "metadata": {},
   "outputs": [],
   "source": []
  },
  {
   "cell_type": "markdown",
   "metadata": {},
   "source": [
    "### <font color=\"yellow\"> 1. filter Quran , punct , Eng"
   ]
  },
  {
   "cell_type": "code",
   "execution_count": 2,
   "metadata": {},
   "outputs": [
    {
     "name": "stdout",
     "output_type": "stream",
     "text": [
      "len all data :  1246968\n"
     ]
    },
    {
     "name": "stderr",
     "output_type": "stream",
     "text": [
      "100%|██████████| 1246968/1246968 [00:01<00:00, 775552.34it/s]\n"
     ]
    },
    {
     "name": "stdout",
     "output_type": "stream",
     "text": [
      "len all words :  334354\n",
      "len quran words :  14872\n"
     ]
    },
    {
     "name": "stderr",
     "output_type": "stream",
     "text": [
      "100%|██████████| 334354/334354 [01:06<00:00, 5026.37it/s]\n"
     ]
    },
    {
     "name": "stdout",
     "output_type": "stream",
     "text": [
      "len words Xquran :  326471\n",
      "len words Xquran_Xpunct :  326276\n",
      "len words Xquran_Xpunct_Xeng :  325305\n"
     ]
    }
   ],
   "source": [
    "Main_path = \"/home/mmaher/CS_Clean/\" \n",
    "name = \"ASR/\"\n",
    "words_XQuran_Xeng_Xpunct = rmv_Quran_punct_num_eng(Main_path + name +  '/data_all_final.txt')"
   ]
  },
  {
   "cell_type": "code",
   "execution_count": 8,
   "metadata": {},
   "outputs": [],
   "source": [
    "#Save filter\n",
    "num = 1\n",
    "for i in range(0,len(words_XQuran_Xeng_Xpunct),131715):\n",
    "    df = pd.DataFrame()\n",
    "    df[0] = words_XQuran_Xeng_Xpunct[i:i+131715]\n",
    "\n",
    "    try:\n",
    "        writer = pd.ExcelWriter( Main_path +  name + 'ar/ar'  + str(num) + '.xlsx', engine='xlsxwriter')\n",
    "    except:\n",
    "        os.mkdir(Main_path + name + '/ar/')\n",
    "        writer = pd.ExcelWriter( Main_path +  name + 'ar/ar'  +  str(num) + '.xlsx', engine='xlsxwriter')\n",
    "    \n",
    "    df.to_excel(writer, sheet_name='welcome', index=False)\n",
    "    writer.save()\n",
    "    num+=1\n",
    "\n",
    "try: os.mkdir(Main_path + name + '/en/')\n",
    "except: pass"
   ]
  },
  {
   "cell_type": "code",
   "execution_count": null,
   "metadata": {},
   "outputs": [],
   "source": []
  },
  {
   "cell_type": "code",
   "execution_count": null,
   "metadata": {},
   "outputs": [],
   "source": []
  },
  {
   "cell_type": "code",
   "execution_count": null,
   "metadata": {},
   "outputs": [],
   "source": []
  },
  {
   "cell_type": "markdown",
   "metadata": {},
   "source": [
    "### <font color=\"yellow\"> 2. Read Trans"
   ]
  },
  {
   "cell_type": "code",
   "execution_count": 10,
   "metadata": {},
   "outputs": [],
   "source": [
    "words_XQuran_Xeng_Xpunct_trans = []\n",
    "for i in range(1,1+len(os.listdir(Main_path  + name + \"/en/\"))):\n",
    "    df = pd.read_excel(Main_path + name +  \"/en/ar\" + str(i) + \".xlsx\")\n",
    "    words_XQuran_Xeng_Xpunct_trans.extend(df[0]) # 0 is column name"
   ]
  },
  {
   "cell_type": "code",
   "execution_count": null,
   "metadata": {},
   "outputs": [],
   "source": []
  },
  {
   "cell_type": "code",
   "execution_count": null,
   "metadata": {},
   "outputs": [],
   "source": []
  },
  {
   "cell_type": "code",
   "execution_count": null,
   "metadata": {},
   "outputs": [],
   "source": []
  },
  {
   "cell_type": "markdown",
   "metadata": {},
   "source": [
    "### <font color=\"yellow\"> 3. Franco & Match"
   ]
  },
  {
   "cell_type": "code",
   "execution_count": 17,
   "metadata": {},
   "outputs": [
    {
     "name": "stderr",
     "output_type": "stream",
     "text": [
      "  8%|▊         | 26633/325305 [00:00<00:02, 134064.58it/s]"
     ]
    },
    {
     "name": "stdout",
     "output_type": "stream",
     "text": [
      "nan\n",
      "nan\n"
     ]
    },
    {
     "name": "stderr",
     "output_type": "stream",
     "text": [
      " 51%|█████     | 166350/325305 [00:01<00:01, 140538.83it/s]"
     ]
    },
    {
     "name": "stdout",
     "output_type": "stream",
     "text": [
      "nan\n"
     ]
    },
    {
     "name": "stderr",
     "output_type": "stream",
     "text": [
      "100%|██████████| 325305/325305 [00:02<00:00, 134214.13it/s]\n",
      "100%|██████████| 325305/325305 [00:05<00:00, 58593.55it/s]"
     ]
    },
    {
     "name": "stdout",
     "output_type": "stream",
     "text": [
      "len(words_Xquran_Xpunct_Xeng) 325305\n",
      "len(words_Xquran_Xpunct_Xeng_trans) 325305\n",
      "len(words_Xquran_Xpunct_Xeng_trans_franco) 325305\n",
      "len(matches) 325305\n"
     ]
    },
    {
     "name": "stderr",
     "output_type": "stream",
     "text": [
      "\n"
     ]
    }
   ],
   "source": [
    "words_Xquran_Xpunct_Xeng_trans_franco , matches = franco_match(words_XQuran_Xeng_Xpunct, words_XQuran_Xeng_Xpunct_trans)"
   ]
  },
  {
   "cell_type": "code",
   "execution_count": null,
   "metadata": {},
   "outputs": [],
   "source": []
  },
  {
   "cell_type": "code",
   "execution_count": null,
   "metadata": {},
   "outputs": [],
   "source": []
  },
  {
   "cell_type": "code",
   "execution_count": null,
   "metadata": {},
   "outputs": [],
   "source": []
  },
  {
   "cell_type": "markdown",
   "metadata": {},
   "source": [
    "### <font color=\"yellow\"> 3. Filter Match > 0.8 & Not Eng"
   ]
  },
  {
   "cell_type": "code",
   "execution_count": 18,
   "metadata": {},
   "outputs": [
    {
     "name": "stderr",
     "output_type": "stream",
     "text": [
      "100%|██████████| 325305/325305 [01:08<00:00, 4765.40it/s]"
     ]
    },
    {
     "name": "stdout",
     "output_type": "stream",
     "text": [
      "len after filter match > 0.8 : 3649\n"
     ]
    },
    {
     "name": "stderr",
     "output_type": "stream",
     "text": [
      "\n"
     ]
    }
   ],
   "source": [
    "filtered_ar, filtered_en ,  filtered_fr, filtered_ma = filter_match(0.8,words_XQuran_Xeng_Xpunct,words_XQuran_Xeng_Xpunct_trans,words_Xquran_Xpunct_Xeng_trans_franco,matches)"
   ]
  },
  {
   "cell_type": "code",
   "execution_count": null,
   "metadata": {},
   "outputs": [],
   "source": []
  },
  {
   "cell_type": "code",
   "execution_count": null,
   "metadata": {},
   "outputs": [],
   "source": []
  },
  {
   "cell_type": "code",
   "execution_count": null,
   "metadata": {},
   "outputs": [],
   "source": []
  },
  {
   "cell_type": "code",
   "execution_count": null,
   "metadata": {},
   "outputs": [],
   "source": []
  },
  {
   "cell_type": "markdown",
   "metadata": {},
   "source": [
    "### <font color=\"yellow\"> 4. Save"
   ]
  },
  {
   "cell_type": "code",
   "execution_count": 19,
   "metadata": {},
   "outputs": [],
   "source": [
    "lists = [ words_XQuran_Xeng_Xpunct, words_XQuran_Xeng_Xpunct_trans, words_Xquran_Xpunct_Xeng_trans_franco, matches, filtered_ar, filtered_en, filtered_fr , filtered_ma]\n",
    "names = [ \"words_XQuran_Xeng_Xpunct\", \"words_XQuran_Xeng_Xpunct_trans\", \"words_Xquran_Xpunct_Xeng_trans_franco\", \"matches\", \"filtered_ar\", \"filtered_en\", \"filtered_fr\" , \"filtered_ma\"]"
   ]
  },
  {
   "cell_type": "code",
   "execution_count": 20,
   "metadata": {},
   "outputs": [],
   "source": [
    "try:os.mkdir( Main_path + name + \"lists/\" ) \n",
    "except:pass\n",
    "\n",
    "for i in range(len(names)):\n",
    "    textfile = open(Main_path + name + \"lists/\" + names[i] + \".txt\", \"w\")\n",
    "    for element in lists[i]:\n",
    "        textfile.write(str(element) + \"\\n\")\n",
    "    textfile.close()"
   ]
  },
  {
   "cell_type": "code",
   "execution_count": 22,
   "metadata": {},
   "outputs": [],
   "source": [
    "textfile = open(Main_path + name + \"lists/filtered_ar_en_\" + name[:-1] + \".txt\", \"w\")\n",
    "for e in range(0,len(filtered_ar)):\n",
    "    textfile.write(filtered_ar[e] + \"  @@  \" + filtered_en[e] + \"\\n\")\n",
    "textfile.close()\n",
    "\n",
    "\n",
    "df = pd.DataFrame()\n",
    "df[\"Arabic words\"] = filtered_ar\n",
    "df[\"English words\"] = filtered_en\n",
    "df[\"Franco words\"] = filtered_fr\n",
    "df[\"matches\"] = filtered_ma\n",
    "df[\"check\"] = [0]*len(filtered_ar)\n",
    "\n",
    "writer = pd.ExcelWriter(  Main_path  + name + \"/\"  + 'ar_en_fr_ma_' + name[:-1] + '.xlsx', engine='xlsxwriter')\n",
    "df.to_excel(writer, sheet_name='welcome', index=False)\n",
    "writer.save()"
   ]
  },
  {
   "cell_type": "code",
   "execution_count": null,
   "metadata": {},
   "outputs": [],
   "source": []
  },
  {
   "cell_type": "code",
   "execution_count": null,
   "metadata": {},
   "outputs": [],
   "source": []
  },
  {
   "cell_type": "code",
   "execution_count": null,
   "metadata": {},
   "outputs": [],
   "source": []
  }
 ],
 "metadata": {
  "interpreter": {
   "hash": "82993f7945482a4265afa550710e3587b9340074a8a5b5d0eb8186cf43d40833"
  },
  "kernelspec": {
   "display_name": "Python 3.8.5 ('CS_VIR': venv)",
   "language": "python",
   "name": "python3"
  },
  "language_info": {
   "codemirror_mode": {
    "name": "ipython",
    "version": 3
   },
   "file_extension": ".py",
   "mimetype": "text/x-python",
   "name": "python",
   "nbconvert_exporter": "python",
   "pygments_lexer": "ipython3",
   "version": "3.8.5"
  },
  "orig_nbformat": 4
 },
 "nbformat": 4,
 "nbformat_minor": 2
}
