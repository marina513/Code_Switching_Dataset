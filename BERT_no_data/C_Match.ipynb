{
 "cells": [
  {
   "cell_type": "code",
   "execution_count": 2,
   "metadata": {},
   "outputs": [
    {
     "name": "stderr",
     "output_type": "stream",
     "text": [
      "/home/mmaher/MATCH/MATCH_venv/lib/python3.8/site-packages/pydub/utils.py:170: RuntimeWarning: Couldn't find ffmpeg or avconv - defaulting to ffmpeg, but may not work\n",
      "  warn(\"Couldn't find ffmpeg or avconv - defaulting to ffmpeg, but may not work\", RuntimeWarning)\n"
     ]
    }
   ],
   "source": [
    "import numpy as np\n",
    "from sklearn.metrics.pairwise import cosine_similarity\n",
    "from pydub import AudioSegment\n",
    "from  tqdm import tqdm\n"
   ]
  },
  {
   "cell_type": "code",
   "execution_count": null,
   "metadata": {},
   "outputs": [],
   "source": []
  },
  {
   "cell_type": "markdown",
   "metadata": {},
   "source": [
    "# ar BERT read"
   ]
  },
  {
   "cell_type": "code",
   "execution_count": 3,
   "metadata": {},
   "outputs": [
    {
     "name": "stdout",
     "output_type": "stream",
     "text": [
      "encoded_txt.shape :  (529607, 768)\n"
     ]
    }
   ],
   "source": [
    "# Read data & split to text & paths list\n",
    "p_ar = \"/home/mmaher/ASR_DATA/0.ar_data/ALL_DATA/ALL_path_text.txt\"\n",
    "\n",
    "with open(p_ar, encoding=\"utf8\") as f:\n",
    "    ar_paths_texts = f.readlines()\n",
    "\n",
    "ar_texts = [(\" \".join(a.split(\" \")[1:])).replace(\"\\n\",\"\").strip() for a in ar_paths_texts]\n",
    "ar_paths = [ a.split(\" \")[0].replace(\"\\n\",\"\").strip() for a in ar_paths_texts]\n",
    "\n",
    "\n",
    "# vectorize\n",
    "encoded_txt_ar_trans = np.load(\"/home/mmaher/ASR_DATA/2.BERT/data_ar/BERT_vectors/translated_en_bert.npy\")\n",
    "print(\"encoded_txt.shape : \" , encoded_txt_ar_trans.shape)"
   ]
  },
  {
   "cell_type": "code",
   "execution_count": null,
   "metadata": {},
   "outputs": [],
   "source": []
  },
  {
   "cell_type": "code",
   "execution_count": null,
   "metadata": {},
   "outputs": [],
   "source": []
  },
  {
   "cell_type": "markdown",
   "metadata": {},
   "source": [
    "# en BERT data"
   ]
  },
  {
   "cell_type": "code",
   "execution_count": 111,
   "metadata": {},
   "outputs": [],
   "source": [
    "with open(\"/home/mmaher/ASR_DATA/2.BERT/data_en/en_data/text.txt\", encoding=\"utf8\") as f:\n",
    "    en_paths_texts = f.readlines()\n",
    "\n",
    "\n",
    "en_texts = [(\" \".join(a.split(\" \")[1:])).replace(\"\\n\",\"\").strip() for a in en_paths_texts]\n",
    "en_paths = [ a.split(\" \")[0].replace(\"\\n\",\"\").strip() for a in en_paths_texts]\n"
   ]
  },
  {
   "cell_type": "code",
   "execution_count": 112,
   "metadata": {},
   "outputs": [
    {
     "name": "stdout",
     "output_type": "stream",
     "text": [
      "encoded_txt.shape :  (3843, 768)\n"
     ]
    }
   ],
   "source": [
    "from sentence_transformers import SentenceTransformer\n",
    "model_bert = SentenceTransformer('bert-base-nli-max-tokens')\n",
    "en_encoded_txt = model_bert.encode(en_texts)\n",
    "print(\"encoded_txt.shape : \" , en_encoded_txt.shape)"
   ]
  },
  {
   "cell_type": "code",
   "execution_count": null,
   "metadata": {},
   "outputs": [],
   "source": []
  },
  {
   "cell_type": "code",
   "execution_count": null,
   "metadata": {},
   "outputs": [],
   "source": []
  },
  {
   "cell_type": "code",
   "execution_count": null,
   "metadata": {},
   "outputs": [],
   "source": []
  },
  {
   "cell_type": "markdown",
   "metadata": {},
   "source": [
    "# Cosine sim"
   ]
  },
  {
   "cell_type": "code",
   "execution_count": 79,
   "metadata": {},
   "outputs": [
    {
     "name": "stderr",
     "output_type": "stream",
     "text": [
      "  9%|▉         | 337/3843 [12:13<2:23:18,  2.45s/it]"
     ]
    },
    {
     "name": "stdout",
     "output_type": "stream",
     "text": [
      "336\n"
     ]
    },
    {
     "name": "stderr",
     "output_type": "stream",
     "text": [
      " 19%|█▊        | 712/3843 [26:51<1:57:17,  2.25s/it]"
     ]
    },
    {
     "name": "stdout",
     "output_type": "stream",
     "text": [
      "711\n"
     ]
    },
    {
     "name": "stderr",
     "output_type": "stream",
     "text": [
      " 30%|██▉       | 1143/3843 [43:05<1:42:02,  2.27s/it]"
     ]
    },
    {
     "name": "stdout",
     "output_type": "stream",
     "text": [
      "1142\n"
     ]
    },
    {
     "name": "stderr",
     "output_type": "stream",
     "text": [
      " 52%|█████▏    | 1983/3843 [1:15:47<1:09:05,  2.23s/it]"
     ]
    },
    {
     "name": "stdout",
     "output_type": "stream",
     "text": [
      "1982\n"
     ]
    },
    {
     "name": "stderr",
     "output_type": "stream",
     "text": [
      " 81%|████████  | 3096/3843 [1:58:44<25:29,  2.05s/it]  "
     ]
    },
    {
     "name": "stdout",
     "output_type": "stream",
     "text": [
      "3095\n"
     ]
    },
    {
     "name": "stderr",
     "output_type": "stream",
     "text": [
      "100%|██████████| 3843/3843 [2:28:24<00:00,  2.32s/it]\n"
     ]
    }
   ],
   "source": [
    "text_ar_en = [] ; sims_en_all_ars = []\n",
    "\n",
    "for e in tqdm(range(len(en_encoded_txt))):\n",
    "    try:\n",
    "        eng_text_enc = en_encoded_txt[e]\n",
    "        eng_text = en_texts[e]\n",
    "        eng_path = en_paths[e]\n",
    "\n",
    "        sims_en_ars = cosine_similarity(eng_text_enc.reshape(1,eng_text_enc.shape[0]),encoded_txt_ar_trans)\n",
    "        sims_en_all_ars.append(list(sims_en_ars[0]))\n",
    "\n",
    "        most_sim_ar_index = sims_en_ars.argmax()\n",
    "        most_sim_ar_text = ar_texts[most_sim_ar_index]\n",
    "        most_sim_ar_path = ar_paths[most_sim_ar_index]\n",
    "\n",
    "        t = most_sim_ar_text + \"  .@@.  \"   + eng_text\n",
    "        text_ar_en.append(t)\n",
    "\n",
    "        sound_ar = AudioSegment.from_wav(most_sim_ar_path+\".wav\")\n",
    "        sound_en = AudioSegment.from_wav(eng_path)\n",
    "\n",
    "        combined_sounds = sound_ar + sound_en\n",
    "        combined_sounds.export(\"/home/mmaher/ASR_DATA/2.BERT/data_BERT_out/wavs/\" + str(e+1) + \".wav\", format=\"wav\")\n",
    "\n",
    "    except:\n",
    "        print(e)"
   ]
  },
  {
   "cell_type": "code",
   "execution_count": 89,
   "metadata": {},
   "outputs": [],
   "source": [
    "s = np.load(\"/home/mmaher/ASR_DATA/2.BERT/data_BERT_out/sims.npy\")"
   ]
  },
  {
   "cell_type": "code",
   "execution_count": 90,
   "metadata": {},
   "outputs": [
    {
     "data": {
      "text/plain": [
       "(3843, 529607)"
      ]
     },
     "execution_count": 90,
     "metadata": {},
     "output_type": "execute_result"
    }
   ],
   "source": [
    "s.shape"
   ]
  },
  {
   "cell_type": "code",
   "execution_count": 80,
   "metadata": {},
   "outputs": [],
   "source": [
    "with open('/home/mmaher/ASR_DATA/2.BERT/data_BERT_out/text.txt', 'w') as f:\n",
    "    for line in text_ar_en:\n",
    "        f.write(line)\n",
    "        f.write('\\n')\n",
    "        \n",
    "\n",
    "np.save( \"/home/mmaher/ASR_DATA/2.BERT/data_BERT_out/sims.npy\", np.asarray(sims_en_all_ars))"
   ]
  },
  {
   "cell_type": "code",
   "execution_count": null,
   "metadata": {},
   "outputs": [],
   "source": []
  },
  {
   "cell_type": "code",
   "execution_count": null,
   "metadata": {},
   "outputs": [],
   "source": []
  },
  {
   "cell_type": "code",
   "execution_count": null,
   "metadata": {},
   "outputs": [],
   "source": []
  }
 ],
 "metadata": {
  "interpreter": {
   "hash": "0a1d8329355cf04ea3035a46c7f93242f04c761c9e2bef49b93a3b8efc814249"
  },
  "kernelspec": {
   "display_name": "Python 3.8.5 ('MATCH_venv': venv)",
   "language": "python",
   "name": "python3"
  },
  "language_info": {
   "codemirror_mode": {
    "name": "ipython",
    "version": 3
   },
   "file_extension": ".py",
   "mimetype": "text/x-python",
   "name": "python",
   "nbconvert_exporter": "python",
   "pygments_lexer": "ipython3",
   "version": "3.8.5"
  },
  "orig_nbformat": 4
 },
 "nbformat": 4,
 "nbformat_minor": 2
}
